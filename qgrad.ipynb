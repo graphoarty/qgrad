{
 "cells": [
  {
   "cell_type": "code",
   "execution_count": 11,
   "id": "c063ac83-160e-4e08-ad9a-93917b315fa6",
   "metadata": {
    "tags": []
   },
   "outputs": [],
   "source": [
    "import math\n",
    "import numpy as np\n",
    "import matplotlib.pyplot as plt\n",
    "import random\n",
    "%matplotlib inline"
   ]
  },
  {
   "cell_type": "code",
   "execution_count": 12,
   "id": "850a3e54-1b9c-4c02-901d-ceab681bd2e3",
   "metadata": {
    "tags": []
   },
   "outputs": [],
   "source": [
    "class Value():\n",
    "    \n",
    "    def __init__(self, data, _children=(), _op='', label=''):\n",
    "        self.data = data\n",
    "        self.grad = 0.0\n",
    "        self._prev = set(_children)\n",
    "        self._op = _op\n",
    "        self._backward = lambda: None\n",
    "        self.label = label\n",
    "        \n",
    "    def __repr__(self):\n",
    "        return \"Value(data={}, grad={})\".format(self.data, self.grad)\n",
    "    \n",
    "    def __add__(self, other):\n",
    "        if not isinstance(other, Value): other = Value(other)\n",
    "        out = Value(self.data + other.data, (self, other), '+')\n",
    "        \n",
    "        def _backward():\n",
    "            self.grad += out.grad\n",
    "            other.grad += out.grad\n",
    "        out._backward = _backward\n",
    "        \n",
    "        return out\n",
    "    \n",
    "    def __radd__(self, other):\n",
    "        if not isinstance(other, Value): other = Value(other)\n",
    "        out = Value(other.data + self.data, (self, other), '+')\n",
    "        \n",
    "        def _backward():\n",
    "            self.grad += out.grad\n",
    "            other.grad += out.grad\n",
    "        out._backward = _backward\n",
    "        \n",
    "        return out\n",
    "    \n",
    "    def __sub__(self, other):\n",
    "        if not isinstance(other, Value): other = Value(other)\n",
    "        out = Value(self.data - other.data, (self, other), '-')\n",
    "        \n",
    "        def _backward():\n",
    "            self.grad += out.grad\n",
    "            other.grad += out.grad\n",
    "        out._backward = _backward\n",
    "        \n",
    "        return out\n",
    "    \n",
    "    def __rsub__(self, other):\n",
    "        if not isinstance(other, Value): other = Value(other)\n",
    "        out = Value(other.data - self.data, (self, other), '-')\n",
    "        \n",
    "        def _backward():\n",
    "            self.grad += out.grad\n",
    "            other.grad += out.grad\n",
    "        out._backward = _backward\n",
    "        \n",
    "        return out\n",
    "    \n",
    "    def __mul__(self, other):\n",
    "        if not isinstance(other, Value): other = Value(other)\n",
    "        out = Value(self.data * other.data, (self, other), '*')\n",
    "        \n",
    "        def _backward():\n",
    "            self.grad += other.data * out.grad\n",
    "            other.grad += self.data * out.grad\n",
    "        out._backward = _backward\n",
    "        \n",
    "        return out\n",
    "    \n",
    "    def __rmul__(self, other):\n",
    "        if not isinstance(other, Value): other = Value(other)\n",
    "        out = Value(other.data * self.data, (self, other), '*')\n",
    "        \n",
    "        def _backward():\n",
    "            self.grad += other.data * out.grad\n",
    "            other.grad += self.data * out.grad\n",
    "        out._backward = _backward\n",
    "        \n",
    "        return out\n",
    "    \n",
    "    def tanh(self):\n",
    "        x = self.data\n",
    "        t = (math.exp(2*x) - 1)/(math.exp(2*x) + 1)\n",
    "        out = Value(t, (self, ) , \"tanh\")\n",
    "        \n",
    "        def _backward():\n",
    "            self.grad += 1 - (out.data ** 2)\n",
    "        out._backward = _backward\n",
    "        \n",
    "        return out\n",
    "    \n",
    "    def backward(self):\n",
    "\n",
    "        # topological order all of the children in the graph\n",
    "        topo = []\n",
    "        visited = set()\n",
    "        def build_topo(v):\n",
    "            if v not in visited:\n",
    "                visited.add(v)\n",
    "                for child in v._prev:\n",
    "                    build_topo(child)\n",
    "                topo.append(v)\n",
    "        build_topo(self)\n",
    "\n",
    "        # go one variable at a time and apply the chain rule to get its gradient\n",
    "        self.grad = 1\n",
    "        for v in reversed(topo):\n",
    "            v._backward()"
   ]
  },
  {
   "cell_type": "code",
   "execution_count": 13,
   "id": "cc307369-5c2d-4869-aa11-589e81d15984",
   "metadata": {},
   "outputs": [],
   "source": [
    "from graphviz import Digraph\n",
    "\n",
    "def trace(root):\n",
    "    nodes, edges = set(), set()\n",
    "    def build(v):\n",
    "        if v not in nodes:\n",
    "            nodes.add(v)\n",
    "            for child in v._prev:\n",
    "                edges.add((child, v))\n",
    "                build(child)\n",
    "    build(root)\n",
    "    return nodes, edges\n",
    "\n",
    "def draw_dot(root, format='svg', rankdir='LR'):\n",
    "    \"\"\"\n",
    "    format: png | svg | ...\n",
    "    rankdir: TB (top to bottom graph) | LR (left to right)\n",
    "    \"\"\"\n",
    "    assert rankdir in ['LR', 'TB']\n",
    "    nodes, edges = trace(root)\n",
    "    dot = Digraph(format=format, graph_attr={'rankdir': rankdir}) #, node_attr={'rankdir': 'TB'})\n",
    "    \n",
    "    for n in nodes:\n",
    "        dot.node(name=str(id(n)), label = \"{ %s | data %.4f | grad %.4f }\" % (n.label, n.data, n.grad), shape='record')\n",
    "        if n._op:\n",
    "            dot.node(name=str(id(n)) + n._op, label=n._op)\n",
    "            dot.edge(str(id(n)) + n._op, str(id(n)))\n",
    "    \n",
    "    for n1, n2 in edges:\n",
    "        dot.edge(str(id(n1)), str(id(n2)) + n2._op)\n",
    "    \n",
    "    return dot"
   ]
  },
  {
   "cell_type": "code",
   "execution_count": 14,
   "id": "13ac9de4-7bf0-440d-81cc-780cbec4afa9",
   "metadata": {},
   "outputs": [],
   "source": [
    "x1 = Value(2.0, label=\"x1\")\n",
    "x2 = Value(0.0, label=\"x2\")\n",
    "w1 = Value(-3.0, label=\"w1\")\n",
    "w2= Value(1.0, label=\"w2\")\n",
    "b = Value(6.8813735870195432, label=\"b\")\n",
    "x1w1 = x1*w1; x1w1.label = 'x1*w1'\n",
    "x2w2 = x2*w2; x2w2.label = 'x2*w2'\n",
    "x1w1x2w2 = x1w1 + x2w2; x1w1x2w2.label = 'x1w1 * x2*w2'\n",
    "n = x1w1x2w2 + b; n.label = 'n'\n",
    "o = n.tanh(); o.label = 'o'"
   ]
  },
  {
   "cell_type": "code",
   "execution_count": 15,
   "id": "3e00d0bb-0e35-4a79-b612-d49c74e3381c",
   "metadata": {},
   "outputs": [],
   "source": [
    "o.grad = 1"
   ]
  },
  {
   "cell_type": "code",
   "execution_count": 16,
   "id": "9869672c-e74f-4f23-98cb-1d939ed95cc7",
   "metadata": {},
   "outputs": [
    {
     "data": {
      "image/svg+xml": [
       "<?xml version=\"1.0\" encoding=\"UTF-8\" standalone=\"no\"?>\n",
       "<!DOCTYPE svg PUBLIC \"-//W3C//DTD SVG 1.1//EN\"\n",
       " \"http://www.w3.org/Graphics/SVG/1.1/DTD/svg11.dtd\">\n",
       "<!-- Generated by graphviz version 8.0.2 (20230410.1723)\n",
       " -->\n",
       "<!-- Pages: 1 -->\n",
       "<svg width=\"1578pt\" height=\"210pt\"\n",
       " viewBox=\"0.00 0.00 1578.00 210.00\" xmlns=\"http://www.w3.org/2000/svg\" xmlns:xlink=\"http://www.w3.org/1999/xlink\">\n",
       "<g id=\"graph0\" class=\"graph\" transform=\"scale(1 1) rotate(0) translate(4 206)\">\n",
       "<polygon fill=\"white\" stroke=\"none\" points=\"-4,4 -4,-206 1574,-206 1574,4 -4,4\"/>\n",
       "<!-- 1588192277504 -->\n",
       "<g id=\"node1\" class=\"node\">\n",
       "<title>1588192277504</title>\n",
       "<polygon fill=\"none\" stroke=\"black\" points=\"328,-55.5 328,-91.5 550,-91.5 550,-55.5 328,-55.5\"/>\n",
       "<text text-anchor=\"middle\" x=\"354.5\" y=\"-69.8\" font-family=\"Times New Roman,serif\" font-size=\"14.00\">x1*w1</text>\n",
       "<polyline fill=\"none\" stroke=\"black\" points=\"381,-55.5 381,-91.5\"/>\n",
       "<text text-anchor=\"middle\" x=\"424\" y=\"-69.8\" font-family=\"Times New Roman,serif\" font-size=\"14.00\">data &#45;6.0000</text>\n",
       "<polyline fill=\"none\" stroke=\"black\" points=\"467,-55.5 467,-91.5\"/>\n",
       "<text text-anchor=\"middle\" x=\"508.5\" y=\"-69.8\" font-family=\"Times New Roman,serif\" font-size=\"14.00\">grad 0.0000</text>\n",
       "</g>\n",
       "<!-- 1588192274528+ -->\n",
       "<g id=\"node8\" class=\"node\">\n",
       "<title>1588192274528+</title>\n",
       "<ellipse fill=\"none\" stroke=\"black\" cx=\"613\" cy=\"-100.5\" rx=\"27\" ry=\"18\"/>\n",
       "<text text-anchor=\"middle\" x=\"613\" y=\"-96.8\" font-family=\"Times New Roman,serif\" font-size=\"14.00\">+</text>\n",
       "</g>\n",
       "<!-- 1588192277504&#45;&gt;1588192274528+ -->\n",
       "<g id=\"edge14\" class=\"edge\">\n",
       "<title>1588192277504&#45;&gt;1588192274528+</title>\n",
       "<path fill=\"none\" stroke=\"black\" d=\"M549.9,-90.75C558.93,-92.17 567.57,-93.53 575.39,-94.75\"/>\n",
       "<polygon fill=\"black\" stroke=\"black\" points=\"574.78,-98.36 585.2,-96.45 575.87,-91.44 574.78,-98.36\"/>\n",
       "</g>\n",
       "<!-- 1588192277504* -->\n",
       "<g id=\"node2\" class=\"node\">\n",
       "<title>1588192277504*</title>\n",
       "<ellipse fill=\"none\" stroke=\"black\" cx=\"265\" cy=\"-73.5\" rx=\"27\" ry=\"18\"/>\n",
       "<text text-anchor=\"middle\" x=\"265\" y=\"-69.8\" font-family=\"Times New Roman,serif\" font-size=\"14.00\">*</text>\n",
       "</g>\n",
       "<!-- 1588192277504*&#45;&gt;1588192277504 -->\n",
       "<g id=\"edge1\" class=\"edge\">\n",
       "<title>1588192277504*&#45;&gt;1588192277504</title>\n",
       "<path fill=\"none\" stroke=\"black\" d=\"M292.5,-73.5C299.81,-73.5 308.25,-73.5 317.31,-73.5\"/>\n",
       "<polygon fill=\"black\" stroke=\"black\" points=\"317.2,-77 327.2,-73.5 317.2,-70 317.2,-77\"/>\n",
       "</g>\n",
       "<!-- 1588192273424 -->\n",
       "<g id=\"node3\" class=\"node\">\n",
       "<title>1588192273424</title>\n",
       "<polygon fill=\"none\" stroke=\"black\" points=\"1382,-109.5 1382,-145.5 1570,-145.5 1570,-109.5 1382,-109.5\"/>\n",
       "<text text-anchor=\"middle\" x=\"1394\" y=\"-123.8\" font-family=\"Times New Roman,serif\" font-size=\"14.00\">o</text>\n",
       "<polyline fill=\"none\" stroke=\"black\" points=\"1406,-109.5 1406,-145.5\"/>\n",
       "<text text-anchor=\"middle\" x=\"1446.5\" y=\"-123.8\" font-family=\"Times New Roman,serif\" font-size=\"14.00\">data 0.7071</text>\n",
       "<polyline fill=\"none\" stroke=\"black\" points=\"1487,-109.5 1487,-145.5\"/>\n",
       "<text text-anchor=\"middle\" x=\"1528.5\" y=\"-123.8\" font-family=\"Times New Roman,serif\" font-size=\"14.00\">grad 1.0000</text>\n",
       "</g>\n",
       "<!-- 1588192273424tanh -->\n",
       "<g id=\"node4\" class=\"node\">\n",
       "<title>1588192273424tanh</title>\n",
       "<ellipse fill=\"none\" stroke=\"black\" cx=\"1319\" cy=\"-127.5\" rx=\"27\" ry=\"18\"/>\n",
       "<text text-anchor=\"middle\" x=\"1319\" y=\"-123.8\" font-family=\"Times New Roman,serif\" font-size=\"14.00\">tanh</text>\n",
       "</g>\n",
       "<!-- 1588192273424tanh&#45;&gt;1588192273424 -->\n",
       "<g id=\"edge2\" class=\"edge\">\n",
       "<title>1588192273424tanh&#45;&gt;1588192273424</title>\n",
       "<path fill=\"none\" stroke=\"black\" d=\"M1346.29,-127.5C1353.68,-127.5 1362.19,-127.5 1371.25,-127.5\"/>\n",
       "<polygon fill=\"black\" stroke=\"black\" points=\"1371.09,-131 1381.09,-127.5 1371.09,-124 1371.09,-131\"/>\n",
       "</g>\n",
       "<!-- 1588192274480 -->\n",
       "<g id=\"node5\" class=\"node\">\n",
       "<title>1588192274480</title>\n",
       "<polygon fill=\"none\" stroke=\"black\" points=\"330.5,-110.5 330.5,-146.5 547.5,-146.5 547.5,-110.5 330.5,-110.5\"/>\n",
       "<text text-anchor=\"middle\" x=\"357\" y=\"-124.8\" font-family=\"Times New Roman,serif\" font-size=\"14.00\">x2*w2</text>\n",
       "<polyline fill=\"none\" stroke=\"black\" points=\"383.5,-110.5 383.5,-146.5\"/>\n",
       "<text text-anchor=\"middle\" x=\"424\" y=\"-124.8\" font-family=\"Times New Roman,serif\" font-size=\"14.00\">data 0.0000</text>\n",
       "<polyline fill=\"none\" stroke=\"black\" points=\"464.5,-110.5 464.5,-146.5\"/>\n",
       "<text text-anchor=\"middle\" x=\"506\" y=\"-124.8\" font-family=\"Times New Roman,serif\" font-size=\"14.00\">grad 0.0000</text>\n",
       "</g>\n",
       "<!-- 1588192274480&#45;&gt;1588192274528+ -->\n",
       "<g id=\"edge12\" class=\"edge\">\n",
       "<title>1588192274480&#45;&gt;1588192274528+</title>\n",
       "<path fill=\"none\" stroke=\"black\" d=\"M547.46,-111.01C557.47,-109.38 567.07,-107.81 575.66,-106.42\"/>\n",
       "<polygon fill=\"black\" stroke=\"black\" points=\"576.01,-109.74 585.32,-104.68 574.89,-102.83 576.01,-109.74\"/>\n",
       "</g>\n",
       "<!-- 1588192274480* -->\n",
       "<g id=\"node6\" class=\"node\">\n",
       "<title>1588192274480*</title>\n",
       "<ellipse fill=\"none\" stroke=\"black\" cx=\"265\" cy=\"-128.5\" rx=\"27\" ry=\"18\"/>\n",
       "<text text-anchor=\"middle\" x=\"265\" y=\"-124.8\" font-family=\"Times New Roman,serif\" font-size=\"14.00\">*</text>\n",
       "</g>\n",
       "<!-- 1588192274480*&#45;&gt;1588192274480 -->\n",
       "<g id=\"edge3\" class=\"edge\">\n",
       "<title>1588192274480*&#45;&gt;1588192274480</title>\n",
       "<path fill=\"none\" stroke=\"black\" d=\"M292.5,-128.5C300.54,-128.5 309.95,-128.5 320.04,-128.5\"/>\n",
       "<polygon fill=\"black\" stroke=\"black\" points=\"319.77,-132 329.77,-128.5 319.77,-125 319.77,-132\"/>\n",
       "</g>\n",
       "<!-- 1588192274528 -->\n",
       "<g id=\"node7\" class=\"node\">\n",
       "<title>1588192274528</title>\n",
       "<polygon fill=\"none\" stroke=\"black\" points=\"676,-82.5 676,-118.5 943,-118.5 943,-82.5 676,-82.5\"/>\n",
       "<text text-anchor=\"middle\" x=\"725\" y=\"-96.8\" font-family=\"Times New Roman,serif\" font-size=\"14.00\">x1w1 * x2*w2</text>\n",
       "<polyline fill=\"none\" stroke=\"black\" points=\"774,-82.5 774,-118.5\"/>\n",
       "<text text-anchor=\"middle\" x=\"817\" y=\"-96.8\" font-family=\"Times New Roman,serif\" font-size=\"14.00\">data &#45;6.0000</text>\n",
       "<polyline fill=\"none\" stroke=\"black\" points=\"860,-82.5 860,-118.5\"/>\n",
       "<text text-anchor=\"middle\" x=\"901.5\" y=\"-96.8\" font-family=\"Times New Roman,serif\" font-size=\"14.00\">grad 0.0000</text>\n",
       "</g>\n",
       "<!-- 1588192275440+ -->\n",
       "<g id=\"node15\" class=\"node\">\n",
       "<title>1588192275440+</title>\n",
       "<ellipse fill=\"none\" stroke=\"black\" cx=\"1006\" cy=\"-127.5\" rx=\"27\" ry=\"18\"/>\n",
       "<text text-anchor=\"middle\" x=\"1006\" y=\"-123.8\" font-family=\"Times New Roman,serif\" font-size=\"14.00\">+</text>\n",
       "</g>\n",
       "<!-- 1588192274528&#45;&gt;1588192275440+ -->\n",
       "<g id=\"edge13\" class=\"edge\">\n",
       "<title>1588192274528&#45;&gt;1588192275440+</title>\n",
       "<path fill=\"none\" stroke=\"black\" d=\"M939.96,-118.47C950.17,-119.89 959.85,-121.23 968.47,-122.43\"/>\n",
       "<polygon fill=\"black\" stroke=\"black\" points=\"967.75,-126 978.14,-123.91 968.71,-119.07 967.75,-126\"/>\n",
       "</g>\n",
       "<!-- 1588192274528+&#45;&gt;1588192274528 -->\n",
       "<g id=\"edge4\" class=\"edge\">\n",
       "<title>1588192274528+&#45;&gt;1588192274528</title>\n",
       "<path fill=\"none\" stroke=\"black\" d=\"M640.23,-100.5C647.61,-100.5 656.2,-100.5 665.51,-100.5\"/>\n",
       "<polygon fill=\"black\" stroke=\"black\" points=\"665.3,-104 675.3,-100.5 665.3,-97 665.3,-104\"/>\n",
       "</g>\n",
       "<!-- 1588192276064 -->\n",
       "<g id=\"node9\" class=\"node\">\n",
       "<title>1588192276064</title>\n",
       "<polygon fill=\"none\" stroke=\"black\" points=\"2.5,-165.5 2.5,-201.5 199.5,-201.5 199.5,-165.5 2.5,-165.5\"/>\n",
       "<text text-anchor=\"middle\" x=\"19\" y=\"-179.8\" font-family=\"Times New Roman,serif\" font-size=\"14.00\">w2</text>\n",
       "<polyline fill=\"none\" stroke=\"black\" points=\"35.5,-165.5 35.5,-201.5\"/>\n",
       "<text text-anchor=\"middle\" x=\"76\" y=\"-179.8\" font-family=\"Times New Roman,serif\" font-size=\"14.00\">data 1.0000</text>\n",
       "<polyline fill=\"none\" stroke=\"black\" points=\"116.5,-165.5 116.5,-201.5\"/>\n",
       "<text text-anchor=\"middle\" x=\"158\" y=\"-179.8\" font-family=\"Times New Roman,serif\" font-size=\"14.00\">grad 0.0000</text>\n",
       "</g>\n",
       "<!-- 1588192276064&#45;&gt;1588192274480* -->\n",
       "<g id=\"edge11\" class=\"edge\">\n",
       "<title>1588192276064&#45;&gt;1588192274480*</title>\n",
       "<path fill=\"none\" stroke=\"black\" d=\"M173.99,-165.56C183.48,-162.75 193.03,-159.71 202,-156.5 212.32,-152.81 223.3,-148.11 233.11,-143.63\"/>\n",
       "<polygon fill=\"black\" stroke=\"black\" points=\"234.25,-146.49 241.83,-139.08 231.29,-140.15 234.25,-146.49\"/>\n",
       "</g>\n",
       "<!-- 1588192276112 -->\n",
       "<g id=\"node10\" class=\"node\">\n",
       "<title>1588192276112</title>\n",
       "<polygon fill=\"none\" stroke=\"black\" points=\"4,-55.5 4,-91.5 198,-91.5 198,-55.5 4,-55.5\"/>\n",
       "<text text-anchor=\"middle\" x=\"19\" y=\"-69.8\" font-family=\"Times New Roman,serif\" font-size=\"14.00\">x1</text>\n",
       "<polyline fill=\"none\" stroke=\"black\" points=\"34,-55.5 34,-91.5\"/>\n",
       "<text text-anchor=\"middle\" x=\"74.5\" y=\"-69.8\" font-family=\"Times New Roman,serif\" font-size=\"14.00\">data 2.0000</text>\n",
       "<polyline fill=\"none\" stroke=\"black\" points=\"115,-55.5 115,-91.5\"/>\n",
       "<text text-anchor=\"middle\" x=\"156.5\" y=\"-69.8\" font-family=\"Times New Roman,serif\" font-size=\"14.00\">grad 0.0000</text>\n",
       "</g>\n",
       "<!-- 1588192276112&#45;&gt;1588192277504* -->\n",
       "<g id=\"edge6\" class=\"edge\">\n",
       "<title>1588192276112&#45;&gt;1588192277504*</title>\n",
       "<path fill=\"none\" stroke=\"black\" d=\"M197.64,-73.5C207.95,-73.5 217.93,-73.5 226.88,-73.5\"/>\n",
       "<polygon fill=\"black\" stroke=\"black\" points=\"226.63,-77 236.63,-73.5 226.63,-70 226.63,-77\"/>\n",
       "</g>\n",
       "<!-- 1588192275776 -->\n",
       "<g id=\"node11\" class=\"node\">\n",
       "<title>1588192275776</title>\n",
       "<polygon fill=\"none\" stroke=\"black\" points=\"0,-0.5 0,-36.5 202,-36.5 202,-0.5 0,-0.5\"/>\n",
       "<text text-anchor=\"middle\" x=\"16.5\" y=\"-14.8\" font-family=\"Times New Roman,serif\" font-size=\"14.00\">w1</text>\n",
       "<polyline fill=\"none\" stroke=\"black\" points=\"33,-0.5 33,-36.5\"/>\n",
       "<text text-anchor=\"middle\" x=\"76\" y=\"-14.8\" font-family=\"Times New Roman,serif\" font-size=\"14.00\">data &#45;3.0000</text>\n",
       "<polyline fill=\"none\" stroke=\"black\" points=\"119,-0.5 119,-36.5\"/>\n",
       "<text text-anchor=\"middle\" x=\"160.5\" y=\"-14.8\" font-family=\"Times New Roman,serif\" font-size=\"14.00\">grad 0.0000</text>\n",
       "</g>\n",
       "<!-- 1588192275776&#45;&gt;1588192277504* -->\n",
       "<g id=\"edge8\" class=\"edge\">\n",
       "<title>1588192275776&#45;&gt;1588192277504*</title>\n",
       "<path fill=\"none\" stroke=\"black\" d=\"M170.98,-36.47C181.45,-39.58 192.06,-42.96 202,-46.5 212.07,-50.08 222.82,-54.53 232.5,-58.78\"/>\n",
       "<polygon fill=\"black\" stroke=\"black\" points=\"230.93,-62.36 241.49,-63.26 233.79,-55.98 230.93,-62.36\"/>\n",
       "</g>\n",
       "<!-- 1588192272800 -->\n",
       "<g id=\"node12\" class=\"node\">\n",
       "<title>1588192272800</title>\n",
       "<polygon fill=\"none\" stroke=\"black\" points=\"4,-110.5 4,-146.5 198,-146.5 198,-110.5 4,-110.5\"/>\n",
       "<text text-anchor=\"middle\" x=\"19\" y=\"-124.8\" font-family=\"Times New Roman,serif\" font-size=\"14.00\">x2</text>\n",
       "<polyline fill=\"none\" stroke=\"black\" points=\"34,-110.5 34,-146.5\"/>\n",
       "<text text-anchor=\"middle\" x=\"74.5\" y=\"-124.8\" font-family=\"Times New Roman,serif\" font-size=\"14.00\">data 0.0000</text>\n",
       "<polyline fill=\"none\" stroke=\"black\" points=\"115,-110.5 115,-146.5\"/>\n",
       "<text text-anchor=\"middle\" x=\"156.5\" y=\"-124.8\" font-family=\"Times New Roman,serif\" font-size=\"14.00\">grad 0.0000</text>\n",
       "</g>\n",
       "<!-- 1588192272800&#45;&gt;1588192274480* -->\n",
       "<g id=\"edge10\" class=\"edge\">\n",
       "<title>1588192272800&#45;&gt;1588192274480*</title>\n",
       "<path fill=\"none\" stroke=\"black\" d=\"M197.64,-128.5C207.95,-128.5 217.93,-128.5 226.88,-128.5\"/>\n",
       "<polygon fill=\"black\" stroke=\"black\" points=\"226.63,-132 236.63,-128.5 226.63,-125 226.63,-132\"/>\n",
       "</g>\n",
       "<!-- 1588192272848 -->\n",
       "<g id=\"node13\" class=\"node\">\n",
       "<title>1588192272848</title>\n",
       "<polygon fill=\"none\" stroke=\"black\" points=\"715.5,-137.5 715.5,-173.5 903.5,-173.5 903.5,-137.5 715.5,-137.5\"/>\n",
       "<text text-anchor=\"middle\" x=\"727.5\" y=\"-151.8\" font-family=\"Times New Roman,serif\" font-size=\"14.00\">b</text>\n",
       "<polyline fill=\"none\" stroke=\"black\" points=\"739.5,-137.5 739.5,-173.5\"/>\n",
       "<text text-anchor=\"middle\" x=\"780\" y=\"-151.8\" font-family=\"Times New Roman,serif\" font-size=\"14.00\">data 6.8814</text>\n",
       "<polyline fill=\"none\" stroke=\"black\" points=\"820.5,-137.5 820.5,-173.5\"/>\n",
       "<text text-anchor=\"middle\" x=\"862\" y=\"-151.8\" font-family=\"Times New Roman,serif\" font-size=\"14.00\">grad 0.0000</text>\n",
       "</g>\n",
       "<!-- 1588192272848&#45;&gt;1588192275440+ -->\n",
       "<g id=\"edge9\" class=\"edge\">\n",
       "<title>1588192272848&#45;&gt;1588192275440+</title>\n",
       "<path fill=\"none\" stroke=\"black\" d=\"M903.48,-142.12C926.61,-138.78 950.07,-135.41 968.59,-132.74\"/>\n",
       "<polygon fill=\"black\" stroke=\"black\" points=\"969.05,-136.07 978.45,-131.18 968.05,-129.14 969.05,-136.07\"/>\n",
       "</g>\n",
       "<!-- 1588192275440 -->\n",
       "<g id=\"node14\" class=\"node\">\n",
       "<title>1588192275440</title>\n",
       "<polygon fill=\"none\" stroke=\"black\" points=\"1069,-109.5 1069,-145.5 1256,-145.5 1256,-109.5 1069,-109.5\"/>\n",
       "<text text-anchor=\"middle\" x=\"1080.5\" y=\"-123.8\" font-family=\"Times New Roman,serif\" font-size=\"14.00\">n</text>\n",
       "<polyline fill=\"none\" stroke=\"black\" points=\"1092,-109.5 1092,-145.5\"/>\n",
       "<text text-anchor=\"middle\" x=\"1132.5\" y=\"-123.8\" font-family=\"Times New Roman,serif\" font-size=\"14.00\">data 0.8814</text>\n",
       "<polyline fill=\"none\" stroke=\"black\" points=\"1173,-109.5 1173,-145.5\"/>\n",
       "<text text-anchor=\"middle\" x=\"1214.5\" y=\"-123.8\" font-family=\"Times New Roman,serif\" font-size=\"14.00\">grad 0.0000</text>\n",
       "</g>\n",
       "<!-- 1588192275440&#45;&gt;1588192273424tanh -->\n",
       "<g id=\"edge7\" class=\"edge\">\n",
       "<title>1588192275440&#45;&gt;1588192273424tanh</title>\n",
       "<path fill=\"none\" stroke=\"black\" d=\"M1255.6,-127.5C1264.46,-127.5 1273.05,-127.5 1280.87,-127.5\"/>\n",
       "<polygon fill=\"black\" stroke=\"black\" points=\"1280.74,-131 1290.74,-127.5 1280.74,-124 1280.74,-131\"/>\n",
       "</g>\n",
       "<!-- 1588192275440+&#45;&gt;1588192275440 -->\n",
       "<g id=\"edge5\" class=\"edge\">\n",
       "<title>1588192275440+&#45;&gt;1588192275440</title>\n",
       "<path fill=\"none\" stroke=\"black\" d=\"M1033.21,-127.5C1040.63,-127.5 1049.2,-127.5 1058.31,-127.5\"/>\n",
       "<polygon fill=\"black\" stroke=\"black\" points=\"1058.21,-131 1068.21,-127.5 1058.21,-124 1058.21,-131\"/>\n",
       "</g>\n",
       "</g>\n",
       "</svg>\n"
      ],
      "text/plain": [
       "<graphviz.graphs.Digraph at 0x171c7a2e290>"
      ]
     },
     "execution_count": 16,
     "metadata": {},
     "output_type": "execute_result"
    }
   ],
   "source": [
    "draw_dot(o)"
   ]
  },
  {
   "cell_type": "code",
   "execution_count": 134,
   "id": "ca3d04e5-a0db-4097-a451-a80567fb27bc",
   "metadata": {
    "tags": []
   },
   "outputs": [],
   "source": [
    "o.backward()"
   ]
  },
  {
   "cell_type": "code",
   "execution_count": 337,
   "id": "cb141522-0348-4204-9778-82516019564f",
   "metadata": {
    "tags": []
   },
   "outputs": [
    {
     "data": {
      "text/plain": [
       "Value(data=0.6878565205049515, grad=0.0)"
      ]
     },
     "execution_count": 337,
     "metadata": {},
     "output_type": "execute_result"
    }
   ],
   "source": [
    "class Neuron:\n",
    "    \n",
    "    def __init__(self, nin): # nin is the number of inputs to the neuron\n",
    "        self.w = [Value(random.uniform(-1, 1)) for _ in range(nin)]\n",
    "        self.b = Value(random.uniform(-1, 1))\n",
    "        \n",
    "    def __call__(self, x):\n",
    "        act = sum((wi*xi for wi, xi in (zip(self.w, x))), self.b) + self.b\n",
    "        out = act.tanh()\n",
    "        return out\n",
    "    \n",
    "    def parameters(self):\n",
    "        return self.w + [self.b]\n",
    "\n",
    "class Layer:\n",
    "    \n",
    "    def __init__(self, nin, nout):\n",
    "        self.neurons = [Neuron(nin) for _ in range(nout)]\n",
    "        \n",
    "    def __call__(self, x):\n",
    "        out = [n(x) for n in self.neurons]\n",
    "        return out[0] if len(out) == 1 else out\n",
    "\n",
    "    def parameters(self):\n",
    "        params = []\n",
    "        for neuron in self.neurons:\n",
    "            ps = neuron.parameters()\n",
    "            params.extend(ps)\n",
    "        return params\n",
    "    \n",
    "class MLP:\n",
    "    \n",
    "    def __init__(self, nin, nout):\n",
    "        sz = [nin] + nout\n",
    "        self.layers = [Layer(sz[i], sz[i+1]) for i in range(len(nout))]\n",
    "        \n",
    "    def __call__(self, x):        \n",
    "        for layer in self.layers:\n",
    "            x = layer(x)\n",
    "        return x\n",
    "    \n",
    "    def parameters(self):\n",
    "        return [p for layer in self.layers for p in layer.parameters()]\n",
    "    \n",
    "x = [2.0, 3.0, -1]\n",
    "n = MLP(3, [4, 4, 1])\n",
    "n(x)"
   ]
  },
  {
   "cell_type": "code",
   "execution_count": 340,
   "id": "df1f3212-b8de-4daa-a37e-5335ead6a5b8",
   "metadata": {},
   "outputs": [],
   "source": [
    "xs = [\n",
    "    [2.0, 3.0, -1.0],\n",
    "    [3.0, -1.0, 0.5],\n",
    "    [0.5, 1.0, 1.0],\n",
    "    [1.0, 1.0, -1.0]\n",
    "]\n",
    "ys = [1.0, -1.0, -1.0, 1.0]"
   ]
  },
  {
   "cell_type": "code",
   "execution_count": 378,
   "id": "f6c64618-a1bb-439e-a467-e98531da9ec9",
   "metadata": {
    "tags": []
   },
   "outputs": [
    {
     "data": {
      "text/plain": [
       "Value(data=5.390174206466142, grad=0.0)"
      ]
     },
     "execution_count": 378,
     "metadata": {},
     "output_type": "execute_result"
    }
   ],
   "source": [
    "ypred = [n(x) for x in xs ]\n",
    "loss = sum((ygrt - yout)*(ygrt - yout) for ygrt, yout in zip(ys, ypred))\n",
    "loss"
   ]
  },
  {
   "cell_type": "code",
   "execution_count": 379,
   "id": "1d9f0df6-045f-47b9-b127-eb9a3de35116",
   "metadata": {
    "tags": []
   },
   "outputs": [],
   "source": [
    "loss.backward()"
   ]
  },
  {
   "cell_type": "code",
   "execution_count": 380,
   "id": "8cd17a42-6fca-4f95-8b1f-404ab31c3b92",
   "metadata": {
    "tags": []
   },
   "outputs": [
    {
     "data": {
      "text/plain": [
       "21.348251586544094"
      ]
     },
     "execution_count": 380,
     "metadata": {},
     "output_type": "execute_result"
    }
   ],
   "source": [
    "n.layers[0].neurons[0].w[0].grad"
   ]
  },
  {
   "cell_type": "code",
   "execution_count": 381,
   "id": "d70d081b-b510-4d74-8243-f2e921379e82",
   "metadata": {
    "tags": []
   },
   "outputs": [
    {
     "data": {
      "text/plain": [
       "0.5965249767293461"
      ]
     },
     "execution_count": 381,
     "metadata": {},
     "output_type": "execute_result"
    }
   ],
   "source": [
    "n.layers[0].neurons[0].w[0].data"
   ]
  },
  {
   "cell_type": "code",
   "execution_count": 382,
   "id": "57e029a1-86d2-4b37-b6ce-bcabae2232f5",
   "metadata": {
    "tags": []
   },
   "outputs": [],
   "source": [
    "for p in n.parameters():\n",
    "    p.data += -0.001 * p.grad"
   ]
  },
  {
   "cell_type": "code",
   "execution_count": 383,
   "id": "67bed4c1-9ad9-433a-b9d8-ebc8d68503c4",
   "metadata": {
    "tags": []
   },
   "outputs": [
    {
     "data": {
      "text/plain": [
       "[Value(data=0.13614996221698486, grad=1.7277000755660303),\n",
       " Value(data=0.5258430953349292, grad=-3.0516861906698587),\n",
       " Value(data=0.49879115780418315, grad=-2.9975823156083665),\n",
       " Value(data=0.7366271988318789, grad=0.5267456023362422)]"
      ]
     },
     "execution_count": 383,
     "metadata": {},
     "output_type": "execute_result"
    }
   ],
   "source": [
    "ypred"
   ]
  },
  {
   "cell_type": "code",
   "execution_count": null,
   "id": "0dcde1c0-6c11-4c20-a1bd-3f0dd629d711",
   "metadata": {},
   "outputs": [],
   "source": []
  }
 ],
 "metadata": {
  "kernelspec": {
   "display_name": "Python 3 (ipykernel)",
   "language": "python",
   "name": "python3"
  },
  "language_info": {
   "codemirror_mode": {
    "name": "ipython",
    "version": 3
   },
   "file_extension": ".py",
   "mimetype": "text/x-python",
   "name": "python",
   "nbconvert_exporter": "python",
   "pygments_lexer": "ipython3",
   "version": "3.10.8"
  }
 },
 "nbformat": 4,
 "nbformat_minor": 5
}
