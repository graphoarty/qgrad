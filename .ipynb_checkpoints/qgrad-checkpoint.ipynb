{
 "cells": [
  {
   "cell_type": "code",
   "execution_count": 1,
   "id": "c063ac83-160e-4e08-ad9a-93917b315fa6",
   "metadata": {
    "tags": []
   },
   "outputs": [],
   "source": [
    "import math\n",
    "import numpy as np\n",
    "import matplotlib.pyplot as plt\n",
    "%matplotlib inline"
   ]
  },
  {
   "cell_type": "code",
   "execution_count": 64,
   "id": "850a3e54-1b9c-4c02-901d-ceab681bd2e3",
   "metadata": {
    "tags": []
   },
   "outputs": [],
   "source": [
    "class Value():\n",
    "    \n",
    "    def __init__(self, data):\n",
    "        self.data = data\n",
    "        \n",
    "    def __repr__(self):\n",
    "        return \"Value({})\".format(self.data)\n",
    "    \n",
    "    def __add__(self, other):\n",
    "        if not isinstance(other, Value): other = Value(other)\n",
    "        return self.data + other.data\n",
    "    \n",
    "    def __radd__(self, other):\n",
    "        if not isinstance(other, Value): other = Value(other)\n",
    "        return other.data + self.data\n",
    "    \n",
    "    def __sub__(self, other):\n",
    "        if not isinstance(other, Value): other = Value(other)\n",
    "        return self.data - other.data\n",
    "    \n",
    "    def __rsub__(self, other):\n",
    "        if not isinstance(other, Value): other = Value(other)\n",
    "        return other.data - self.data\n",
    "    \n",
    "    def __mul__(self, other):\n",
    "        if not isinstance(other, Value): other = Value(other)\n",
    "        return self.data * other.data\n",
    "    \n",
    "    def __rmul__(self, other):\n",
    "        if not isinstance(other, Value): other = Value(other)\n",
    "        return other.data * self.data"
   ]
  },
  {
   "cell_type": "code",
   "execution_count": 66,
   "id": "766556d1-7f00-4b86-9882-f60bd331159c",
   "metadata": {
    "tags": []
   },
   "outputs": [
    {
     "data": {
      "text/plain": [
       "-0.9900000000000002"
      ]
     },
     "execution_count": 66,
     "metadata": {},
     "output_type": "execute_result"
    }
   ],
   "source": [
    "a = Value(3.01)\n",
    "b = 4\n",
    "a - b"
   ]
  },
  {
   "cell_type": "code",
   "execution_count": null,
   "id": "cc307369-5c2d-4869-aa11-589e81d15984",
   "metadata": {},
   "outputs": [],
   "source": []
  }
 ],
 "metadata": {
  "kernelspec": {
   "display_name": "Python 3 (ipykernel)",
   "language": "python",
   "name": "python3"
  },
  "language_info": {
   "codemirror_mode": {
    "name": "ipython",
    "version": 3
   },
   "file_extension": ".py",
   "mimetype": "text/x-python",
   "name": "python",
   "nbconvert_exporter": "python",
   "pygments_lexer": "ipython3",
   "version": "3.10.8"
  }
 },
 "nbformat": 4,
 "nbformat_minor": 5
}
